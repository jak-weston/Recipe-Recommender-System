{
 "cells": [
  {
   "cell_type": "code",
   "execution_count": 1,
   "id": "63f8f28d-9e4d-44b5-9712-159fb3c67c78",
   "metadata": {},
   "outputs": [
    {
     "name": "stdout",
     "output_type": "stream",
     "text": [
      "Defaulting to user installation because normal site-packages is not writeable\n",
      "Requirement already satisfied: kagglehub in /home/jweston/.local/lib/python3.11/site-packages (0.3.4)\n",
      "Requirement already satisfied: packaging in /opt/conda/lib/python3.11/site-packages (from kagglehub) (24.0)\n",
      "Requirement already satisfied: requests in /opt/conda/lib/python3.11/site-packages (from kagglehub) (2.32.3)\n",
      "Requirement already satisfied: tqdm in /opt/conda/lib/python3.11/site-packages (from kagglehub) (4.66.5)\n",
      "Requirement already satisfied: charset-normalizer<4,>=2 in /opt/conda/lib/python3.11/site-packages (from requests->kagglehub) (3.3.2)\n",
      "Requirement already satisfied: idna<4,>=2.5 in /opt/conda/lib/python3.11/site-packages (from requests->kagglehub) (3.7)\n",
      "Requirement already satisfied: urllib3<3,>=1.21.1 in /opt/conda/lib/python3.11/site-packages (from requests->kagglehub) (2.2.1)\n",
      "Requirement already satisfied: certifi>=2017.4.17 in /opt/conda/lib/python3.11/site-packages (from requests->kagglehub) (2024.8.30)\n"
     ]
    }
   ],
   "source": [
    "!pip install kagglehub --upgrade"
   ]
  },
  {
   "cell_type": "code",
   "execution_count": 2,
   "id": "6fbd7100-ad97-4b14-a8f3-50690ca5e5cd",
   "metadata": {},
   "outputs": [],
   "source": [
    "import os\n",
    "import pandas as pd\n",
    "import kagglehub\n",
    "import matplotlib.pyplot as plt\n",
    "import seaborn as sns\n",
    "from collections import defaultdict"
   ]
  },
  {
   "cell_type": "code",
   "execution_count": 5,
   "id": "1dc9392e-b281-4982-b683-99bd4b7c9ebb",
   "metadata": {},
   "outputs": [
    {
     "name": "stdout",
     "output_type": "stream",
     "text": [
      "Path to dataset files: /home/jweston/.cache/kagglehub/datasets/shuyangli94/food-com-recipes-and-user-interactions/versions/2\n",
      "Files in the dataset: ['RAW_recipes.csv', 'PP_users.csv', 'interactions_test.csv', 'interactions_train.csv', 'PP_recipes.csv', 'ingr_map.pkl', 'interactions_validation.csv', 'RAW_interactions.csv']\n"
     ]
    }
   ],
   "source": [
    "path = kagglehub.dataset_download(\"shuyangli94/food-com-recipes-and-user-interactions\")\n",
    "print(\"Path to dataset files:\", path)\n",
    "\n",
    "# List all files in the dataset directory\n",
    "dataset_files = os.listdir(path)\n",
    "print(\"Files in the dataset:\", dataset_files)"
   ]
  },
  {
   "cell_type": "code",
   "execution_count": 6,
   "id": "51ca66d0-9b01-4e3d-bafa-a18b988e514f",
   "metadata": {},
   "outputs": [
    {
     "name": "stdout",
     "output_type": "stream",
     "text": [
      "Loading RAW_recipes.csv into a DataFrame...\n",
      "Loaded RAW_recipes.csv with 231637 rows and 12 columns.\n",
      "Loading PP_users.csv into a DataFrame...\n",
      "Loaded PP_users.csv with 25076 rows and 6 columns.\n",
      "Loading interactions_test.csv into a DataFrame...\n",
      "Loaded interactions_test.csv with 12455 rows and 6 columns.\n",
      "Loading interactions_train.csv into a DataFrame...\n",
      "Loaded interactions_train.csv with 698901 rows and 6 columns.\n",
      "Loading PP_recipes.csv into a DataFrame...\n",
      "Loaded PP_recipes.csv with 178265 rows and 8 columns.\n",
      "Loading interactions_validation.csv into a DataFrame...\n",
      "Loaded interactions_validation.csv with 7023 rows and 6 columns.\n",
      "Loading RAW_interactions.csv into a DataFrame...\n",
      "Loaded RAW_interactions.csv with 1132367 rows and 5 columns.\n"
     ]
    }
   ],
   "source": [
    "# Dictionary to store DataFrames for each useful file\n",
    "dataframes = {}\n",
    "\n",
    "# Load each useful CSV file into a DataFrame dictionary\n",
    "for file_name in dataset_files:\n",
    "    file_path = os.path.join(path, file_name)\n",
    "    if file_name.endswith('.csv') and os.path.exists(file_path):\n",
    "        print(f\"Loading {file_name} into a DataFrame...\")\n",
    "        df_name = file_name.split('.')[0]  # Use filename without extension as key\n",
    "        dataframes[df_name] = pd.read_csv(file_path)\n",
    "        print(f\"Loaded {file_name} with {dataframes[df_name].shape[0]} rows and {dataframes[df_name].shape[1]} columns.\")"
   ]
  },
  {
   "cell_type": "code",
   "execution_count": 7,
   "id": "a48c4712-e891-4912-9400-6778c70ae809",
   "metadata": {},
   "outputs": [],
   "source": [
    "raw_interactions_df = dataframes.get('RAW_interactions')"
   ]
  },
  {
   "cell_type": "code",
   "execution_count": 8,
   "id": "9cda476a-2658-41c7-94e4-c9c06eb1f9cc",
   "metadata": {},
   "outputs": [
    {
     "data": {
      "text/html": [
       "<div>\n",
       "<style scoped>\n",
       "    .dataframe tbody tr th:only-of-type {\n",
       "        vertical-align: middle;\n",
       "    }\n",
       "\n",
       "    .dataframe tbody tr th {\n",
       "        vertical-align: top;\n",
       "    }\n",
       "\n",
       "    .dataframe thead th {\n",
       "        text-align: right;\n",
       "    }\n",
       "</style>\n",
       "<table border=\"1\" class=\"dataframe\">\n",
       "  <thead>\n",
       "    <tr style=\"text-align: right;\">\n",
       "      <th></th>\n",
       "      <th>user_id</th>\n",
       "      <th>recipe_id</th>\n",
       "      <th>date</th>\n",
       "      <th>rating</th>\n",
       "      <th>review</th>\n",
       "    </tr>\n",
       "  </thead>\n",
       "  <tbody>\n",
       "    <tr>\n",
       "      <th>1000000</th>\n",
       "      <td>774665</td>\n",
       "      <td>247898</td>\n",
       "      <td>2008-08-17</td>\n",
       "      <td>4</td>\n",
       "      <td>This was good and my family enjoyed it, but it...</td>\n",
       "    </tr>\n",
       "    <tr>\n",
       "      <th>1000001</th>\n",
       "      <td>428060</td>\n",
       "      <td>247898</td>\n",
       "      <td>2009-04-21</td>\n",
       "      <td>4</td>\n",
       "      <td>This was very tasty. We used turkey served ove...</td>\n",
       "    </tr>\n",
       "    <tr>\n",
       "      <th>1000002</th>\n",
       "      <td>911707</td>\n",
       "      <td>247898</td>\n",
       "      <td>2009-08-24</td>\n",
       "      <td>5</td>\n",
       "      <td>Very good recipe. I would marinade it longer, ...</td>\n",
       "    </tr>\n",
       "    <tr>\n",
       "      <th>1000003</th>\n",
       "      <td>1244621</td>\n",
       "      <td>247898</td>\n",
       "      <td>2009-08-31</td>\n",
       "      <td>4</td>\n",
       "      <td>This was pretty good.  I will say however that...</td>\n",
       "    </tr>\n",
       "    <tr>\n",
       "      <th>1000004</th>\n",
       "      <td>939002</td>\n",
       "      <td>247898</td>\n",
       "      <td>2011-04-08</td>\n",
       "      <td>3</td>\n",
       "      <td>I tried this recipe tonight and it was just ok...</td>\n",
       "    </tr>\n",
       "  </tbody>\n",
       "</table>\n",
       "</div>"
      ],
      "text/plain": [
       "         user_id  recipe_id        date  rating  \\\n",
       "1000000   774665     247898  2008-08-17       4   \n",
       "1000001   428060     247898  2009-04-21       4   \n",
       "1000002   911707     247898  2009-08-24       5   \n",
       "1000003  1244621     247898  2009-08-31       4   \n",
       "1000004   939002     247898  2011-04-08       3   \n",
       "\n",
       "                                                    review  \n",
       "1000000  This was good and my family enjoyed it, but it...  \n",
       "1000001  This was very tasty. We used turkey served ove...  \n",
       "1000002  Very good recipe. I would marinade it longer, ...  \n",
       "1000003  This was pretty good.  I will say however that...  \n",
       "1000004  I tried this recipe tonight and it was just ok...  "
      ]
     },
     "execution_count": 8,
     "metadata": {},
     "output_type": "execute_result"
    }
   ],
   "source": [
    "# Split interactions into training and testing dataframes\n",
    "train_raw_interactions_df = raw_interactions_df[0:1000000]\n",
    "test_raw_interactions_df = raw_interactions_df[1000000:]\n",
    "test_raw_interactions_df.head()"
   ]
  },
  {
   "cell_type": "code",
   "execution_count": 9,
   "id": "825bc169-cd63-458d-8041-723afdab3294",
   "metadata": {},
   "outputs": [
    {
     "data": {
      "text/plain": [
       "4.409849"
      ]
     },
     "execution_count": 9,
     "metadata": {},
     "output_type": "execute_result"
    }
   ],
   "source": [
    "# Iterate through training set to find values\n",
    "globalAvg = 0\n",
    "ratingsPerUser = defaultdict(list)\n",
    "ratingsPerRecipe = defaultdict(list)\n",
    "\n",
    "for i in range(train_raw_interactions_df.shape[0]):\n",
    "    row = train_raw_interactions_df.iloc[i]\n",
    "    rating, user, recipe = row[\"rating\"], row[\"user_id\"], row[\"recipe_id\"]\n",
    "    globalAvg += rating\n",
    "    ratingsPerUser[user].append((recipe, rating))\n",
    "    ratingsPerRecipe[recipe].append((user, rating))\n",
    "\n",
    "globalAvg /= train_raw_interactions_df.shape[0]\n",
    "globalAvg"
   ]
  },
  {
   "cell_type": "code",
   "execution_count": 10,
   "id": "2ea1a179-759e-41f8-b50a-117b37c8fd75",
   "metadata": {},
   "outputs": [
    {
     "name": "stdout",
     "output_type": "stream",
     "text": [
      "Test MSE (Using Global Averages) = 1.5624910195183335\n"
     ]
    }
   ],
   "source": [
    "# Baseline: Find MSE of predicting global average every time\n",
    "MSE = 0\n",
    "for i in range(test_raw_interactions_df.shape[0]):\n",
    "    row = test_raw_interactions_df.iloc[i]\n",
    "    error = (row[\"rating\"] - globalAvg) ** 2\n",
    "    MSE += error\n",
    "\n",
    "MSE /= test_raw_interactions_df.shape[0]\n",
    "\n",
    "print(\"Test MSE (Using Global Averages) = \" + str(MSE))"
   ]
  },
  {
   "cell_type": "code",
   "execution_count": 11,
   "id": "ded8b019-c64c-4b86-bae9-6162ce65761c",
   "metadata": {},
   "outputs": [
    {
     "name": "stdout",
     "output_type": "stream",
     "text": [
      "Test MSE (Using User Averages) = 1.5401254614048214\n"
     ]
    }
   ],
   "source": [
    "# Baseline: Find MSE of predicting user average, or global average if there is none\n",
    "MSE = 0\n",
    "for i in range(test_raw_interactions_df.shape[0]):\n",
    "    row = test_raw_interactions_df.iloc[i]\n",
    "    if row[\"user_id\"] in ratingsPerUser:\n",
    "        userRatings = [r[1] for r in ratingsPerUser[row[\"user_id\"]]]\n",
    "        avgUserRating = sum(userRatings)/len(userRatings)\n",
    "        error = (row[\"rating\"] - avgUserRating) ** 2\n",
    "    else:\n",
    "        error = (row[\"rating\"] - globalAvg) ** 2\n",
    "    MSE += error\n",
    "\n",
    "MSE /= test_raw_interactions_df.shape[0]\n",
    "\n",
    "print(\"Test MSE (Using User Averages) = \" + str(MSE))"
   ]
  },
  {
   "cell_type": "code",
   "execution_count": 12,
   "id": "5f5e76f0-9f7c-427c-8363-accdda29c1a9",
   "metadata": {},
   "outputs": [
    {
     "name": "stdout",
     "output_type": "stream",
     "text": [
      "Test MSE (Using Recipe Averages) = 1.5821126648278145\n"
     ]
    }
   ],
   "source": [
    "# Baseline: Find MSE of predicting recipe average, or global average if there is none\n",
    "MSE = 0\n",
    "for i in range(test_raw_interactions_df.shape[0]):\n",
    "    row = test_raw_interactions_df.iloc[i]\n",
    "    if row[\"recipe_id\"] in ratingsPerRecipe:\n",
    "        recipeRatings = [r[1] for r in ratingsPerRecipe[row[\"recipe_id\"]]]\n",
    "        avgRecipeRating = sum(recipeRatings)/len(recipeRatings)\n",
    "        error = (row[\"rating\"] - avgRecipeRating) ** 2\n",
    "    else:\n",
    "        error = (row[\"rating\"] - globalAvg) ** 2\n",
    "    MSE += error\n",
    "\n",
    "MSE /= test_raw_interactions_df.shape[0]\n",
    "\n",
    "print(\"Test MSE (Using Recipe Averages) = \" + str(MSE))"
   ]
  },
  {
   "cell_type": "code",
   "execution_count": 13,
   "id": "4453618d-b9e5-4c64-a14d-54be18af9cfd",
   "metadata": {},
   "outputs": [
    {
     "name": "stdout",
     "output_type": "stream",
     "text": [
      "Test MSE (Using User & Recipe Averages) = 1.5451860262455706\n"
     ]
    }
   ],
   "source": [
    "# Baseline: Find MSE of predicting user average or recipe average (whichever has more), or global average if there is neither\n",
    "MSE = 0\n",
    "for i in range(test_raw_interactions_df.shape[0]):\n",
    "    row = test_raw_interactions_df.iloc[i]\n",
    "    user, recipe = row[\"user_id\"], row[\"recipe_id\"]\n",
    "    if user in ratingsPerUser and (recipe not in ratingsPerRecipe or len(ratingsPerRecipe[recipe]) <= len(ratingsPerUser[user])):\n",
    "        userRatings = [r[1] for r in ratingsPerUser[user]]\n",
    "        avgRating = sum(userRatings) / len(userRatings)\n",
    "        error = (row[\"rating\"] - avgRating) ** 2\n",
    "    elif recipe in ratingsPerRecipe and (user not in ratingsPerUser or len(ratingsPerRecipe[recipe]) >= len(ratingsPerUser[user])):\n",
    "        recipeRatings = [r[1] for r in ratingsPerRecipe[recipe]]\n",
    "        avgRating = sum(recipeRatings) / len(recipeRatings)\n",
    "        error = (row[\"rating\"] - avgRating) ** 2\n",
    "    else:\n",
    "        error = (row[\"rating\"] - globalAvg) ** 2\n",
    "    MSE += error\n",
    "\n",
    "MSE /= test_raw_interactions_df.shape[0]\n",
    "\n",
    "print(\"Test MSE (Using User & Recipe Averages) = \" + str(MSE))"
   ]
  },
  {
   "cell_type": "code",
   "execution_count": 14,
   "id": "201da63e-c9e6-453a-8f2e-8fdd0984acf4",
   "metadata": {},
   "outputs": [],
   "source": [
    "# Iteration function for our model...\n",
    "def iterate(lamb):\n",
    "    newAlpha = 0\n",
    "    for i in range(train_raw_interactions_df.shape[0]):\n",
    "        row = train_raw_interactions_df.iloc[i]\n",
    "        rating = row[\"rating\"]\n",
    "        user = row[\"user_id\"]\n",
    "        recipe = row[\"recipe_id\"]\n",
    "        newAlpha += rating - (betaU[user] + betaR[recipe])\n",
    "    alpha = newAlpha / train_raw_interactions_df.shape[0]\n",
    "    for user in ratingsPerUser:\n",
    "        newBetaU = 0\n",
    "        for recipe,rating in ratingsPerUser[user]:\n",
    "            newBetaU += rating - (alpha + betaR[recipe])\n",
    "        betaU[user] = newBetaU / (lamb + len(ratingsPerUser[user]))\n",
    "    for recipe in ratingsPerRecipe:\n",
    "        newBetaR = 0\n",
    "        for user,rating in ratingsPerRecipe[recipe]:\n",
    "            newBetaR += rating - (alpha + betaU[user])\n",
    "        betaR[recipe] = newBetaR / (lamb + len(ratingsPerRecipe[recipe]))\n",
    "    mse = 0\n",
    "    for i in range(train_raw_interactions_df.shape[0]):\n",
    "        row = train_raw_interactions_df.iloc[i]\n",
    "        rating = row[\"rating\"]\n",
    "        user = row[\"user_id\"]\n",
    "        recipe = row[\"recipe_id\"]\n",
    "        prediction = alpha + betaU[user] + betaR[recipe]\n",
    "        mse += (rating - prediction)**2\n",
    "    regularizer = 0\n",
    "    for u in betaU:\n",
    "        regularizer += betaU[u]**2\n",
    "    for r in betaR:\n",
    "        regularizer += betaR[r]**2\n",
    "    mse /= train_raw_interactions_df.shape[0]\n",
    "    return mse, mse + lamb*regularizer"
   ]
  },
  {
   "cell_type": "code",
   "execution_count": 15,
   "id": "00a2abf5-838c-45b0-8ded-1fdd291c5a5a",
   "metadata": {},
   "outputs": [
    {
     "name": "stdout",
     "output_type": "stream",
     "text": [
      "Objective after 1 iteration = 231933.72652197632\n",
      "MSE after 1 iteration = 0.6837470587392875\n",
      "Objective after 2 iterations = 211783.20725310096\n",
      "MSE after 2 iterations = 0.6822491745464135\n",
      "Objective after 3 iterations = 208170.59559952267\n",
      "MSE after 3 iterations = 0.682594319265065\n"
     ]
    }
   ],
   "source": [
    "# Model generation...\n",
    "# Values:\n",
    "betaU = {}\n",
    "betaR = {}\n",
    "for u in ratingsPerUser:\n",
    "    betaU[u] = 0\n",
    "\n",
    "for r in ratingsPerRecipe:\n",
    "    betaR[r] = 0\n",
    "\n",
    "alpha = globalAvg\n",
    "\n",
    "# Iterating:\n",
    "iterations = 0\n",
    "mse, objective, newMSE, newObjective = 0, 0, 0, 0\n",
    "while iterations < 3: # or objective - newObjective > 0.0001:\n",
    "    mse, objective = newMSE, newObjective\n",
    "    newMSE, newObjective = iterate(1)\n",
    "    iterations += 1\n",
    "    print(\"Objective after \"\n",
    "        + str(iterations) + (\" iterations = \" if iterations != 1 else \" iteration = \") + str(newObjective))\n",
    "    print(\"MSE after \"\n",
    "        + str(iterations) + (\" iterations = \" if iterations != 1 else \" iteration = \") + str(newMSE))"
   ]
  },
  {
   "cell_type": "code",
   "execution_count": 16,
   "id": "e1d4c023-2e8b-47b3-b443-3441bf702c7e",
   "metadata": {},
   "outputs": [
    {
     "name": "stdout",
     "output_type": "stream",
     "text": [
      "Test MSE = 1.4816742447245397\n"
     ]
    }
   ],
   "source": [
    "# Testing our model\n",
    "MSE = 0\n",
    "for i in range(test_raw_interactions_df.shape[0]):\n",
    "    row = test_raw_interactions_df.iloc[i]\n",
    "    rating = row[\"rating\"]\n",
    "    user = row[\"user_id\"]\n",
    "    recipe = row[\"recipe_id\"]\n",
    "    bu = 0\n",
    "    br = 0\n",
    "    if user in betaU:\n",
    "        bu = betaU[user]\n",
    "    if recipe in betaR:\n",
    "        br = betaR[recipe]\n",
    "    prediction = alpha + bu + br\n",
    "    MSE += (rating - prediction) ** 2\n",
    "\n",
    "MSE /= test_raw_interactions_df.shape[0]\n",
    "print(\"Test MSE = \" + str(MSE))"
   ]
  }
 ],
 "metadata": {
  "kernelspec": {
   "display_name": "Python 3 (ipykernel)",
   "language": "python",
   "name": "python3"
  },
  "language_info": {
   "codemirror_mode": {
    "name": "ipython",
    "version": 3
   },
   "file_extension": ".py",
   "mimetype": "text/x-python",
   "name": "python",
   "nbconvert_exporter": "python",
   "pygments_lexer": "ipython3",
   "version": "3.11.9"
  }
 },
 "nbformat": 4,
 "nbformat_minor": 5
}
